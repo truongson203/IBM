{
  "nbformat": 4,
  "nbformat_minor": 0,
  "metadata": {
    "colab": {
      "name": "Untitled10.ipynb",
      "provenance": [],
      "private_outputs": true,
      "toc_visible": true,
      "authorship_tag": "ABX9TyOC5qURG/sgg/72fRPBp/E2",
      "include_colab_link": true
    },
    "kernelspec": {
      "name": "python3",
      "display_name": "Python 3"
    },
    "accelerator": "GPU"
  },
  "cells": [
    {
      "cell_type": "markdown",
      "metadata": {
        "id": "view-in-github",
        "colab_type": "text"
      },
      "source": [
        "<a href=\"https://colab.research.google.com/github/truongson203/IBM/blob/master/Week5.ipynb\" target=\"_parent\"><img src=\"https://colab.research.google.com/assets/colab-badge.svg\" alt=\"Open In Colab\"/></a>"
      ]
    },
    {
      "cell_type": "markdown",
      "metadata": {
        "id": "uxHyWr1CKoVI",
        "colab_type": "text"
      },
      "source": [
        "# Import libraries\n"
      ]
    },
    {
      "cell_type": "code",
      "metadata": {
        "id": "FhI5nT_EJxnQ",
        "colab_type": "code",
        "colab": {}
      },
      "source": [
        "!pip install geopy"
      ],
      "execution_count": 0,
      "outputs": []
    },
    {
      "cell_type": "code",
      "metadata": {
        "id": "rXuHwZOrJmyA",
        "colab_type": "code",
        "colab": {}
      },
      "source": [
        "!pip install folium"
      ],
      "execution_count": 0,
      "outputs": []
    },
    {
      "cell_type": "code",
      "metadata": {
        "id": "3jyNNlXIJ-Xu",
        "colab_type": "code",
        "colab": {}
      },
      "source": [
        "import matplotlib.cm as cm\n",
        "import matplotlib.colors as colors\n",
        "import matplotlib.pyplot as plt\n",
        "import seaborn as sns\n",
        "import numpy as np\n",
        "import pandas as pd \n",
        "pd.set_option(\"display.max_columns\", None)\n",
        "pd.set_option(\"display.max_rows\", None)\n",
        "\n",
        "import folium\n",
        "import json\n",
        "import requests\n",
        "import codecs\n",
        "\n",
        "try:\n",
        "  import geocoder\n",
        "except:\n",
        "  !pip install geocoder\n",
        "  import geocoder\n",
        "\n",
        "from bs4 import BeautifulSoup\n",
        "from geopy.geocoders import Nominatim\n",
        "from pandas.io.json import json_normalize\n",
        "from sklearn.cluster import KMeans\n",
        "from pandas.core.common import flatten\n",
        "\n",
        "print(\"Libraries imported.\")"
      ],
      "execution_count": 0,
      "outputs": []
    },
    {
      "cell_type": "markdown",
      "metadata": {
        "id": "5aUEMOGJNEes",
        "colab_type": "text"
      },
      "source": [
        "# Data"
      ]
    },
    {
      "cell_type": "code",
      "metadata": {
        "id": "cu17vD7yKCT_",
        "colab_type": "code",
        "colab": {}
      },
      "source": [
        "!wget https://en.wikipedia.org/wiki/Category:Districts_of_Hanoi\n",
        "print(\"Data downloaded successfully!\")"
      ],
      "execution_count": 0,
      "outputs": []
    },
    {
      "cell_type": "code",
      "metadata": {
        "id": "ItQ3VssDKJ2q",
        "colab_type": "code",
        "colab": {}
      },
      "source": [
        "html = codecs.open('Category:Districts_of_Hanoi', encoding='utf-8').read()\n",
        "soup = BeautifulSoup(html, 'html.parser')"
      ],
      "execution_count": 0,
      "outputs": []
    },
    {
      "cell_type": "code",
      "metadata": {
        "id": "0MbDjHrzKODQ",
        "colab_type": "code",
        "colab": {}
      },
      "source": [
        "def clean_district_name(district_name):\n",
        "  if ', Hanoi' in district_name:\n",
        "    district_name = district_name.replace(', Hanoi', '')\n",
        "  if 'District' not in district_name:\n",
        "    district_name += ' District'\n",
        "  return district_name"
      ],
      "execution_count": 0,
      "outputs": []
    },
    {
      "cell_type": "code",
      "metadata": {
        "id": "HJVxDmPBKQyZ",
        "colab_type": "code",
        "colab": {}
      },
      "source": [
        "districts = [li.text.split('\\n') for li in soup.find_all('ul')[0:13]]\n",
        "districts = list(flatten(districts))\n",
        "districts = [clean_district_name(dist) for dist in districts]\n",
        "\n",
        "print('There are {} districts in Hanoi, VN.'.format(len(districts)))\n",
        "districts"
      ],
      "execution_count": 0,
      "outputs": []
    },
    {
      "cell_type": "code",
      "metadata": {
        "id": "oZo-bMujKSzL",
        "colab_type": "code",
        "colab": {}
      },
      "source": [
        "geolocator = Nominatim(user_agent='ibm-capstone')"
      ],
      "execution_count": 0,
      "outputs": []
    },
    {
      "cell_type": "code",
      "metadata": {
        "id": "f1FxEQusKWSx",
        "colab_type": "code",
        "colab": {}
      },
      "source": [
        "districts_lat = []\n",
        "districts_lng = []"
      ],
      "execution_count": 0,
      "outputs": []
    },
    {
      "cell_type": "code",
      "metadata": {
        "id": "DeFv3KK2K10X",
        "colab_type": "code",
        "colab": {}
      },
      "source": [
        "for dist in districts:\n",
        "  location = geolocator.geocode(dist, timeout=10000)\n",
        "  districts_lat.append(location.latitude)\n",
        "  districts_lng.append(location.longitude)\n",
        "\n",
        "print('{} latitudes and {} longitudes were found.'.format(len(districts_lat), len(districts_lng)))"
      ],
      "execution_count": 0,
      "outputs": []
    },
    {
      "cell_type": "code",
      "metadata": {
        "id": "EsGINpYz3khb",
        "colab_type": "code",
        "colab": {}
      },
      "source": [
        "city = 'Hanoi, VN'\n",
        "hanoi_geo = geolocator.geocode(city, timeout=10000)\n",
        "hanoi_lat = hanoi_geo.latitude\n",
        "hanoi_lng = hanoi_geo.longitude\n",
        "\n",
        "print('The latitude and longitude of {} are {}, {}.'.format(city, hanoi_lat, hanoi_lng))"
      ],
      "execution_count": 0,
      "outputs": []
    },
    {
      "cell_type": "code",
      "metadata": {
        "id": "luE_1wz6K5kK",
        "colab_type": "code",
        "colab": {}
      },
      "source": [
        "df = pd.DataFrame(data={\n",
        "    'District': districts,\n",
        "    'Latitude': districts_lat,\n",
        "    'Longitude': districts_lng\n",
        "})\n",
        "df.head()"
      ],
      "execution_count": 0,
      "outputs": []
    },
    {
      "cell_type": "code",
      "metadata": {
        "id": "Qgo_TjALLDDe",
        "colab_type": "code",
        "colab": {}
      },
      "source": [
        "df.to_csv('Hanoi_Districts_data.csv', index=False)"
      ],
      "execution_count": 0,
      "outputs": []
    },
    {
      "cell_type": "markdown",
      "metadata": {
        "id": "sKhF_QnENII2",
        "colab_type": "text"
      },
      "source": [
        "# Get venues of each district within a radius of 10km"
      ]
    },
    {
      "cell_type": "code",
      "metadata": {
        "id": "awlg_AqFNPL1",
        "colab_type": "code",
        "colab": {}
      },
      "source": [
        "# Foursquare cresentials and version\n",
        "CLIENT_ID = 'GKXY12P2XUWGQTJURTZ5FYXRZK5KDTN2HJ3X2OCTIDHL41HO'\n",
        "CLIENT_SECRET = 'RHTCH4ODAHTZRQFJ53OFM5MWQCAO2SIAADAVFQNQHXBKCHGE'\n",
        "VERSION = '20200101'\n",
        "SECTION = 'arts'\n",
        "LIMIT = 50\n",
        "RADIUS = 10000"
      ],
      "execution_count": 0,
      "outputs": []
    },
    {
      "cell_type": "code",
      "metadata": {
        "id": "iKGcggGmOWg-",
        "colab_type": "code",
        "colab": {}
      },
      "source": [
        "def getNearbyVenues(districts, latitudes, longitudes):\n",
        "    \n",
        "    venues_list=[]\n",
        "    for district, lat, lng in zip(districts, latitudes, longitudes):\n",
        "        print(district)\n",
        "            \n",
        "        # create the API request URL\n",
        "        url = 'https://api.foursquare.com/v2/venues/explore?&client_id={}&client_secret={}&v={}&ll={},{}&radius={}&limit={}&section={}'.format(\n",
        "            CLIENT_ID, \n",
        "            CLIENT_SECRET, \n",
        "            VERSION, \n",
        "            lat, \n",
        "            lng, \n",
        "            RADIUS, \n",
        "            LIMIT,\n",
        "            SECTION)\n",
        "            \n",
        "        # make the GET request\n",
        "        results = requests.get(url).json()['response']['groups'][0]['items']\n",
        "        \n",
        "        # return only relevant information for each nearby venue\n",
        "        venues_list.append([(\n",
        "            district,\n",
        "            lat, \n",
        "            lng, \n",
        "            v['venue']['name'], \n",
        "            v['venue']['location']['lat'], \n",
        "            v['venue']['location']['lng'],  \n",
        "            v['venue']['categories'][0]['name']) for v in results])\n",
        "\n",
        "    nearby_venues = pd.DataFrame([item for venue_list in venues_list for item in venue_list])\n",
        "    nearby_venues.columns = ['District',\n",
        "                            'District Latitude', \n",
        "                            'District Longitude', \n",
        "                            'Venue', \n",
        "                            'Venue Latitude', \n",
        "                            'Venue Longitude', \n",
        "                            'Venue Category']\n",
        "              \n",
        "    return(nearby_venues)"
      ],
      "execution_count": 0,
      "outputs": []
    },
    {
      "cell_type": "code",
      "metadata": {
        "id": "14areBN3OcQO",
        "colab_type": "code",
        "colab": {}
      },
      "source": [
        "hanoi_venues = getNearbyVenues(districts=df['District'],\n",
        "                              latitudes=df['Latitude'],\n",
        "                              longitudes=df['Longitude'])"
      ],
      "execution_count": 0,
      "outputs": []
    },
    {
      "cell_type": "code",
      "metadata": {
        "id": "ySV14O21Ogwc",
        "colab_type": "code",
        "colab": {}
      },
      "source": [
        "hanoi_venues.head()"
      ],
      "execution_count": 0,
      "outputs": []
    },
    {
      "cell_type": "code",
      "metadata": {
        "id": "Br475F1ROqiV",
        "colab_type": "code",
        "colab": {}
      },
      "source": [
        "hanoi_venues.shape"
      ],
      "execution_count": 0,
      "outputs": []
    },
    {
      "cell_type": "markdown",
      "metadata": {
        "id": "4g6PFCPBPEjH",
        "colab_type": "text"
      },
      "source": [
        "# Data Wrangling"
      ]
    },
    {
      "cell_type": "code",
      "metadata": {
        "id": "xlMvC3zsO-ud",
        "colab_type": "code",
        "colab": {}
      },
      "source": [
        "hanoi_venues.info()"
      ],
      "execution_count": 0,
      "outputs": []
    },
    {
      "cell_type": "code",
      "metadata": {
        "id": "bC11IaesPI5I",
        "colab_type": "code",
        "colab": {}
      },
      "source": [
        "hanoi_venues['Venue Category'].unique()"
      ],
      "execution_count": 0,
      "outputs": []
    },
    {
      "cell_type": "markdown",
      "metadata": {
        "id": "UzEXIq3jXMok",
        "colab_type": "text"
      },
      "source": [
        "# Data Analysis"
      ]
    },
    {
      "cell_type": "code",
      "metadata": {
        "id": "_lIdLb87XE11",
        "colab_type": "code",
        "colab": {}
      },
      "source": [
        "venues_by_dist = hanoi_venues.groupby('District').count()[['Venue']]\n",
        "venues_by_dist"
      ],
      "execution_count": 0,
      "outputs": []
    },
    {
      "cell_type": "code",
      "metadata": {
        "id": "JKBL_Z9zddru",
        "colab_type": "code",
        "colab": {}
      },
      "source": [
        "venues_by_dist.sort_values(by='Venue', ascending=False).plot.bar()\n",
        "plt.xlabel('District')\n",
        "plt.ylabel('Number of venues')\n",
        "plt.legend('')\n",
        "plt.title('Number of venues in Hanoi')\n",
        "plt.show()"
      ],
      "execution_count": 0,
      "outputs": []
    },
    {
      "cell_type": "code",
      "metadata": {
        "id": "EIXwxtdwdjsw",
        "colab_type": "code",
        "colab": {}
      },
      "source": [
        "venues_by_category = hanoi_venues.groupby('Venue Category').count()[['Venue']]\n",
        "venues_by_category"
      ],
      "execution_count": 0,
      "outputs": []
    },
    {
      "cell_type": "code",
      "metadata": {
        "id": "sUku3wKBdrVK",
        "colab_type": "code",
        "colab": {}
      },
      "source": [
        "venues_by_category.sort_values(by='Venue', ascending=False).plot.bar()\n",
        "plt.xlabel('Venue Category')\n",
        "plt.ylabel('Number of venues')\n",
        "plt.legend('')\n",
        "plt.title('Top most common venue categories in Hanoi')\n",
        "plt.show()"
      ],
      "execution_count": 0,
      "outputs": []
    },
    {
      "cell_type": "code",
      "metadata": {
        "id": "2nySxAxPdyYV",
        "colab_type": "code",
        "colab": {}
      },
      "source": [
        "print('There are {} unique values in Hanoi Venue Category'.format(len(hanoi_venues['Venue Category'].unique())))\n",
        "hanoi_venues['Venue Category'].unique()"
      ],
      "execution_count": 0,
      "outputs": []
    },
    {
      "cell_type": "code",
      "metadata": {
        "id": "kQ-fFfmwd47n",
        "colab_type": "code",
        "colab": {}
      },
      "source": [
        "# one hot encoding\n",
        "hanoi_onehot = pd.get_dummies(hanoi_venues[['Venue Category']], prefix='', prefix_sep='')\n",
        "\n",
        "# add neighborhood column back to dataframe\n",
        "hanoi_onehot['District'] = hanoi_venues[['District']]\n",
        "\n",
        "# move neighborhood column to the first column\n",
        "fixed_columns = [hanoi_onehot.columns[-1]] + list(hanoi_onehot.columns[:-1])\n",
        "hanoi_onehot = hanoi_onehot[fixed_columns]\n",
        "\n",
        "hanoi_onehot.head()"
      ],
      "execution_count": 0,
      "outputs": []
    },
    {
      "cell_type": "code",
      "metadata": {
        "id": "RxHT9K8rd73S",
        "colab_type": "code",
        "colab": {}
      },
      "source": [
        "hanoi_onehot.shape"
      ],
      "execution_count": 0,
      "outputs": []
    },
    {
      "cell_type": "code",
      "metadata": {
        "id": "YuvABnfKd_KZ",
        "colab_type": "code",
        "colab": {}
      },
      "source": [
        "hanoi_grouped = hanoi_onehot.groupby('District').mean().reset_index()\n",
        "hanoi_grouped"
      ],
      "execution_count": 0,
      "outputs": []
    },
    {
      "cell_type": "code",
      "metadata": {
        "id": "fcsSGjYgeDiD",
        "colab_type": "code",
        "colab": {}
      },
      "source": [
        "hanoi_grouped.shape"
      ],
      "execution_count": 0,
      "outputs": []
    },
    {
      "cell_type": "code",
      "metadata": {
        "id": "kwN41KexeHOe",
        "colab_type": "code",
        "colab": {}
      },
      "source": [
        "# Print top 5 most common venues of each district\n",
        "num_top_venues = 5\n",
        "\n",
        "for dist in hanoi_grouped['District']:\n",
        "    print('----'+dist+'----')\n",
        "    # get a dataframe of venues according to neigborhood and transpose it \n",
        "    temp = hanoi_grouped[hanoi_grouped['District'] == dist].T.reset_index()\n",
        "    \n",
        "    # update meaningful column names\n",
        "    temp.columns = ['Venue Category', 'Frequency']\n",
        "    \n",
        "    # remove the first row of the dataframe (the previous 'District' column)\n",
        "    temp = temp.iloc[1:]\n",
        "    \n",
        "    # convert 'freq' column to type float\n",
        "    temp['Frequency'] = temp['Frequency'].astype(float)\n",
        "    \n",
        "    # round the 'freq' column to 2 digit\n",
        "    temp = temp.round({'Frequency': 2})\n",
        "    \n",
        "    # sort the dataframe desceningly\n",
        "    temp.sort_values(by='Frequency', ascending=False, inplace=True)\n",
        "    \n",
        "    # reset and drop index\n",
        "    temp = temp.reset_index(drop=True)\n",
        "    \n",
        "    print(temp[:5])\n",
        "    print('')"
      ],
      "execution_count": 0,
      "outputs": []
    },
    {
      "cell_type": "code",
      "metadata": {
        "id": "3NfPTSgreNhF",
        "colab_type": "code",
        "colab": {}
      },
      "source": [
        "def return_most_common_venues(row, num_top_venues):\n",
        "    row_categories = row.iloc[1:]\n",
        "    row_categories_sorted = row_categories.sort_values(ascending=False)\n",
        "    \n",
        "    return row_categories_sorted.index.values[0:num_top_venues]"
      ],
      "execution_count": 0,
      "outputs": []
    },
    {
      "cell_type": "code",
      "metadata": {
        "id": "yPf7RgsteaFU",
        "colab_type": "code",
        "colab": {}
      },
      "source": [
        "num_top_venues = 15\n",
        "\n",
        "indicators = ['st', 'nd', 'rd']\n",
        "\n",
        "# create columns according to number of top venues\n",
        "columns = ['District']\n",
        "for ind in np.arange(num_top_venues):\n",
        "    try:\n",
        "        columns.append('{}{} Most Common Venue'.format(ind+1, indicators[ind]))\n",
        "    except:\n",
        "        columns.append('{}th Most Common Venue'.format(ind+1))\n",
        "\n",
        "# create a new dataframe\n",
        "neighborhoods_venues_sorted = pd.DataFrame(columns=columns)\n",
        "neighborhoods_venues_sorted['District'] = hanoi_grouped['District']\n",
        "\n",
        "for ind in np.arange(hanoi_grouped.shape[0]):\n",
        "    neighborhoods_venues_sorted.iloc[ind, 1:] = return_most_common_venues(hanoi_grouped.iloc[ind, :], num_top_venues)\n",
        "\n",
        "neighborhoods_venues_sorted"
      ],
      "execution_count": 0,
      "outputs": []
    },
    {
      "cell_type": "markdown",
      "metadata": {
        "id": "IfDH_bmpekPW",
        "colab_type": "text"
      },
      "source": [
        "# Modelling"
      ]
    },
    {
      "cell_type": "code",
      "metadata": {
        "id": "XC4sCtOhedAr",
        "colab_type": "code",
        "colab": {}
      },
      "source": [
        "# set number of clusters\n",
        "kclusters = 5\n",
        "\n",
        "hanoi_grouped_clustering = hanoi_grouped.drop('District', 1)\n",
        "\n",
        "# run k-means clustering\n",
        "kmeans = KMeans(n_clusters=kclusters, random_state=0).fit(hanoi_grouped_clustering)\n",
        "\n",
        "# check cluster labels generated for each row in the dataframe\n",
        "kmeans.labels_[0:10]"
      ],
      "execution_count": 0,
      "outputs": []
    },
    {
      "cell_type": "code",
      "metadata": {
        "id": "A3SShV_yeoBa",
        "colab_type": "code",
        "colab": {}
      },
      "source": [
        "# add clustering labels\n",
        "try:  \n",
        "  neighborhoods_venues_sorted.insert(0, 'Cluster Labels', kmeans.labels_)\n",
        "except:\n",
        "  neighborhoods_venues_sorted = neighborhoods_venues_sorted\n",
        "hanoi_merged = df\n",
        "\n",
        "# merge toronto_grouped with toronto_data to add latitude/longitude for each neighborhood\n",
        "hanoi_merged = hanoi_merged.join(neighborhoods_venues_sorted.set_index('District'), on='District')\n",
        "\n",
        "#hanoi_merged"
      ],
      "execution_count": 0,
      "outputs": []
    },
    {
      "cell_type": "code",
      "metadata": {
        "id": "MMy4zFA8ewNy",
        "colab_type": "code",
        "colab": {}
      },
      "source": [
        "hanoi_merged.dropna(inplace=True)\n",
        "hanoi_merged"
      ],
      "execution_count": 0,
      "outputs": []
    },
    {
      "cell_type": "code",
      "metadata": {
        "id": "Kmb4UB-1eylO",
        "colab_type": "code",
        "colab": {}
      },
      "source": [
        "#create map\n",
        "map_clusters = folium.Map(location=[hanoi_lat, hanoi_lng], zoom_start=10)\n",
        "\n",
        "# set color scheme for the clusters\n",
        "x = np.arange(kclusters)\n",
        "ys = [i + x + (i*x)**2 for i in range(kclusters)]\n",
        "colors_array = cm.rainbow(np.linspace(0, 1, len(ys)))\n",
        "rainbow = [colors.rgb2hex(i) for i in colors_array]\n",
        "\n",
        "# add markers to the map\n",
        "markers_colors = []\n",
        "for lat, lon, poi, cluster in zip(hanoi_merged['Latitude'], hanoi_merged['Longitude'], hanoi_merged['District'], hanoi_merged['Cluster Labels']):\n",
        "    label = folium.Popup(str(poi) + ' Cluster ' + str(cluster), parse_html=True)\n",
        "    folium.CircleMarker(\n",
        "        [lat, lon],\n",
        "        radius=5,\n",
        "        popup=label,\n",
        "        color=rainbow[int(cluster -1)],\n",
        "        fill=True,\n",
        "        fill_color=rainbow[int(cluster-1)],\n",
        "        fill_opacity=0.7).add_to(map_clusters)\n",
        "       \n",
        "map_clusters"
      ],
      "execution_count": 0,
      "outputs": []
    },
    {
      "cell_type": "code",
      "metadata": {
        "id": "cf58RJtFe3Cs",
        "colab_type": "code",
        "colab": {}
      },
      "source": [
        "# Cluster 0\n",
        "hanoi_merged.loc[hanoi_merged['Cluster Labels'] == 0, hanoi_merged.columns[[0] + list(range(4, hanoi_merged.shape[1]))]]"
      ],
      "execution_count": 0,
      "outputs": []
    },
    {
      "cell_type": "code",
      "metadata": {
        "id": "dtzmjfaF4vDg",
        "colab_type": "code",
        "colab": {}
      },
      "source": [
        "# Cluster 1\n",
        "hanoi_merged.loc[hanoi_merged['Cluster Labels'] == 1, hanoi_merged.columns[[0] + list(range(4, hanoi_merged.shape[1]))]]"
      ],
      "execution_count": 0,
      "outputs": []
    },
    {
      "cell_type": "code",
      "metadata": {
        "id": "t5Er10nm4xe8",
        "colab_type": "code",
        "colab": {}
      },
      "source": [
        "# Cluster 2\n",
        "hanoi_merged.loc[hanoi_merged['Cluster Labels'] == 2, hanoi_merged.columns[[0] + list(range(4, hanoi_merged.shape[1]))]]"
      ],
      "execution_count": 0,
      "outputs": []
    },
    {
      "cell_type": "code",
      "metadata": {
        "id": "nMKONOp_4z36",
        "colab_type": "code",
        "colab": {}
      },
      "source": [
        "# Cluster 3\n",
        "hanoi_merged.loc[hanoi_merged['Cluster Labels'] == 3, hanoi_merged.columns[[0] + list(range(4, hanoi_merged.shape[1]))]]"
      ],
      "execution_count": 0,
      "outputs": []
    },
    {
      "cell_type": "code",
      "metadata": {
        "id": "Zm0i4VGW4225",
        "colab_type": "code",
        "colab": {}
      },
      "source": [
        "# Cluster 4\n",
        "hanoi_merged.loc[hanoi_merged['Cluster Labels'] == 4, hanoi_merged.columns[[0] + list(range(4, hanoi_merged.shape[1]))]]"
      ],
      "execution_count": 0,
      "outputs": []
    },
    {
      "cell_type": "code",
      "metadata": {
        "id": "kmZncLgV45pU",
        "colab_type": "code",
        "colab": {}
      },
      "source": [
        ""
      ],
      "execution_count": 0,
      "outputs": []
    }
  ]
}